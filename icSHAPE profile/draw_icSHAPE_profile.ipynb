{
 "cells": [
  {
   "cell_type": "code",
   "execution_count": 1,
   "metadata": {},
   "outputs": [
    {
     "name": "stdout",
     "output_type": "stream",
     "text": [
      "matplotlib_venn not found, import failed\n",
      "matplotlib_venn not found, import failed\n",
      "Seq not found, import failed\n",
      "Error: bkill not found in PATH, Cluster module cannot be used\n",
      "Rosetta not in D3\n",
      "GAP not found, import failed\n"
     ]
    },
    {
     "name": "stderr",
     "output_type": "stream",
     "text": [
      "Error: bkill not found in PATH\n"
     ]
    },
    {
     "name": "stdout",
     "output_type": "stream",
     "text": [
      "pysam not found, import failed\n",
      "pyBigWig not found, import failed\n"
     ]
    }
   ],
   "source": [
    "importCommon()"
   ]
  },
  {
   "cell_type": "markdown",
   "metadata": {},
   "source": [
    "## 读取与归一化icSHAPE score"
   ]
  },
  {
   "cell_type": "code",
   "execution_count": 2,
   "metadata": {},
   "outputs": [],
   "source": [
    "def isfloat(value):\n",
    "    try:\n",
    "        float(value)\n",
    "        return True\n",
    "    except ValueError:\n",
    "        return False\n",
    "\n",
    "class SHAPE:\n",
    "    def __init__(self, trans_id, rpkm, shape_array):\n",
    "        self.trans_id = trans_id\n",
    "        self.rpkm = rpkm\n",
    "        self.length = len(shape_array)\n",
    "        self.shape_array = shape_array\n",
    "    @staticmethod\n",
    "    def replace(raw_shape_array, raw_item, new_item):\n",
    "        replaced_shape_array = []\n",
    "        for item in raw_shape_array:\n",
    "            if item == raw_item:\n",
    "                replaced_shape_array.append(new_item)\n",
    "            else:\n",
    "                replaced_shape_array.append(item)\n",
    "        return replaced_shape_array\n",
    "    @staticmethod\n",
    "    def divide_median(raw_shape_array):\n",
    "        import numpy\n",
    "        normed_shape_array = []\n",
    "        ## 1. find median\n",
    "        median = numpy.median([ float(item) for item in raw_shape_array if isfloat(item) ])\n",
    "        ## 2. each number divide this median\n",
    "        for shape_score in raw_shape_array:\n",
    "            if isfloat(shape_score):\n",
    "                normed_shape_array.append( float(shape_score)/median )\n",
    "            else:\n",
    "                normed_shape_array.append( 'NULL' )\n",
    "        return normed_shape_array\n",
    "    @staticmethod\n",
    "    def smooth(raw_shape_array, window_size=50, step=25):\n",
    "        smoothed_shape_array = []\n",
    "        start = 0\n",
    "        while start + window_size < len(raw_shape_array):\n",
    "            smoothed_reactivity = SHAPE.average_str_array(raw_shape_array[start:start+window_size], min_num=10)\n",
    "            if smoothed_reactivity:\n",
    "                smoothed_shape_array.append( smoothed_reactivity )\n",
    "            else:\n",
    "                smoothed_shape_array.append( 'NULL' )\n",
    "            start += step\n",
    "        # the end\n",
    "        smoothed_reactivity = SHAPE.average_str_array(raw_shape_array[start:start+window_size], min_num=10)\n",
    "        if smoothed_reactivity:\n",
    "            smoothed_shape_array.append( smoothed_reactivity )\n",
    "        else:\n",
    "            smoothed_shape_array.append( 'NULL' )\n",
    "        smoothed_shape_array += [\"NULL\"] * (len(raw_shape_array) - len(smoothed_shape_array))\n",
    "        return smoothed_shape_array\n",
    "    @staticmethod\n",
    "    def average_str_array(str_array, min_num=10):\n",
    "        Sum = 0\n",
    "        Num = 0\n",
    "        for item in str_array:\n",
    "            if isfloat(item):\n",
    "                Sum += float(item)\n",
    "                Num += 1\n",
    "        if Num >= min_num:\n",
    "            return Sum / Num\n",
    "        else:\n",
    "            return None\n",
    "    @staticmethod\n",
    "    def diff_shape_list(shape_array_1, shape_array_2, ABS=False):\n",
    "        assert( len(shape_array_1) == len(shape_array_2) )\n",
    "        \n",
    "        diff_array = []\n",
    "        for i in range(len(shape_array_1)):\n",
    "            if shape_array_1[i] != 'NULL' and shape_array_2[i] != 'NULL':\n",
    "                if ABS:\n",
    "                    diff_array.append( abs(float(shape_array_1[i]) - float(shape_array_2[i])) )\n",
    "                else:\n",
    "                    diff_array.append( float(shape_array_1[i]) - float(shape_array_2[i]) )\n",
    "            else:\n",
    "                diff_array.append( 'NULL' )\n",
    "        \n",
    "        return diff_array\n",
    "\n",
    "\n",
    "class icSHAPE:\n",
    "    def __init__(self, fileName):\n",
    "        self.shape_list = {}\n",
    "        IN = open(fileName)\n",
    "        line = IN.readline()\n",
    "        while line:\n",
    "            if not line.startswith('#'):\n",
    "                data = line.strip().split()\n",
    "                self.shape_list[ data[0] ] = SHAPE(data[0], data[2], data[3:])\n",
    "            line = IN.readline()\n",
    "        IN.close()\n",
    "    def keys(self):\n",
    "        return sorted(self.shape_list.keys())\n",
    "    def value(self, trans_id):\n",
    "        return self.shape_list[trans_id]\n",
    "\n",
    "def barplot_shape_score(ax, raw_shape_array):\n",
    "    import numpy\n",
    "    float_shape_array = []\n",
    "    for item in raw_shape_array:\n",
    "        if isfloat(item):\n",
    "            float_shape_array.append(float(item) - 1)\n",
    "        else:\n",
    "            float_shape_array.append(0.0)\n",
    "    float_shape_array = numpy.array(float_shape_array)\n",
    "    #float_shape_array = float_shape_array - 1\n",
    "    float_shape_array[0] = 1\n",
    "    float_shape_array[-1] = 1\n",
    "    colors = [ \"#84262e\" if d>0 else \"#332591\" for d in float_shape_array ]\n",
    "    ax.bar(range(len(float_shape_array)), float_shape_array, width=1, linewidth=0, color=colors)\n",
    "\n",
    "def lineplot_shape_score(raw_shape_array, start, end):\n",
    "    import numpy\n",
    "    float_shape_array = []\n",
    "    for item in raw_shape_array:\n",
    "        if isfloat(item):\n",
    "            float_shape_array.append(item)\n",
    "        else:\n",
    "            float_shape_array.append(0.0)\n",
    "    float_shape_array = numpy.array(float_shape_array)\n",
    "    plt.plot( range(start, end), float_shape_array, '-' )\n",
    "\n",
    "\n",
    "##############################\n",
    "##### Read SHAPE\n",
    "##############################\n",
    "\n",
    "shape_set_vivo = icSHAPE(\"virus-w50.shape\")\n",
    "shape_set_vitro = icSHAPE(\"virus-vitro-w50.shape\")\n",
    "keySARS2 = \"NC_045512.2\"\n",
    "\n",
    "virus_SARS2_vivo = shape_set_vivo.value(keySARS2).shape_array\n",
    "virus_SARS2_vitro = shape_set_vitro.value(keySARS2).shape_array\n",
    "\n",
    "virus_moothed_vivo = SHAPE.smooth(virus_SARS2_vivo, window_size=30, step=1)\n",
    "virus_divide_vivo = SHAPE.divide_median(virus_moothed_vivo)\n",
    "\n",
    "virus_moothed_vitro = SHAPE.smooth(virus_SARS2_vitro, window_size=30, step=1)\n",
    "virus_divide_vitro = SHAPE.divide_median(virus_moothed_vitro)\n",
    "\n",
    "#virus_replace = SHAPE.replace(virus_divide, 'NULL', 0)\n",
    "\n",
    "##############################\n",
    "##### Plot Profile\n",
    "##############################\n",
    "\n",
    "#plt.figure(figsize=(20,6))\n",
    "#plt.subplot(2,1,1)\n",
    "#barplot_shape_score(virus_divide)\n",
    "#plt.ylim(-1,1)\n",
    "#plt.show()"
   ]
  },
  {
   "cell_type": "markdown",
   "metadata": {},
   "source": [
    "## 画标度尺"
   ]
  },
  {
   "cell_type": "code",
   "execution_count": 3,
   "metadata": {},
   "outputs": [],
   "source": [
    "def scale_plot(ax, total_len=29903, bold_stick_step=1000, long_stick_step=500, sub_stick_step=100):\n",
    "    long = 1\n",
    "    short = 0.8\n",
    "    ax.plot([1, total_len], [0, 0], linewidth=2.0, c='black')\n",
    "    for i in range(total_len):\n",
    "        if i%bold_stick_step == 0:\n",
    "            ax.plot([i, i], [0, long], linewidth=2.0, c='black')\n",
    "        elif i%long_stick_step == 0:\n",
    "            ax.plot([i, i], [0, long], linewidth=1.0, c='black')\n",
    "        elif i%sub_stick_step == 0:\n",
    "            ax.plot([i, i], [0, short], linewidth=1.0, c='black')\n",
    "    #plt.axis('off')"
   ]
  },
  {
   "cell_type": "markdown",
   "metadata": {},
   "source": [
    "## 画注释"
   ]
  },
  {
   "cell_type": "code",
   "execution_count": 4,
   "metadata": {},
   "outputs": [],
   "source": [
    "annotations = {\n",
    "    \"5'UTR\":    [1,     265,   0, \"#d2d280\"],\n",
    "    \"ORF1ab\":   [266,   21555, 0, \"#91b6cd\"],\n",
    "    \"CDS1\":     [266,   13468, 1, \"#89b761\"],\n",
    "    \"CDS2\":     [13468, 21555, 1, \"#b8857c\"],\n",
    "    \"CDS3\":     [266,   13483, 2, \"#81aeb6\"],\n",
    "    \"S\":        [21563, 25384, 0, \"#7a74a8\"],\n",
    "    \"ORF3a\":    [25393, 26220, 0, \"#5b7db7\"],\n",
    "    \"E\":        [26245, 26472, 0, \"#6fa380\"],\n",
    "    \"M\":        [26523, 27191, 0, \"#b5cc80\"],\n",
    "    \"ORF6\":     [27202, 27387, 0, \"#35478c\"],\n",
    "    \"ORF7a\":    [27394, 27759, 0, \"#dad196\"],\n",
    "    \"ORF7b\":    [27756, 27887, 1, \"#dad196\"],\n",
    "    \"ORF8\":     [27894, 28259, 0, \"#8375a9\"],\n",
    "    \"N\":        [28274, 29533, 0, \"#b8857c\"],\n",
    "    \"ORF10\":    [29558, 29674, 0, \"#81aeb6\"],\n",
    "    \"3'UTR\":    [29675, 29903, 0, \"#89b761\"]\n",
    "}\n",
    "\n",
    "def plot_annotations(ax):\n",
    "    thickness = 3\n",
    "    for annot in annotations.values():\n",
    "        rect = matplotlib.patches.Rectangle((annot[0], 4*annot[2]), annot[1]-annot[0], thickness, fill=True, color=annot[3])\n",
    "        ax.add_patch(rect)\n",
    "    ax.set_ylim(0, 12)"
   ]
  },
  {
   "cell_type": "code",
   "execution_count": 5,
   "metadata": {},
   "outputs": [
    {
     "name": "stderr",
     "output_type": "stream",
     "text": [
      "C:\\Anaconda3\\lib\\site-packages\\ipykernel_launcher.py:16: UserWarning: Matplotlib is currently using module://ipykernel.pylab.backend_inline, which is a non-GUI backend, so cannot show the figure.\n",
      "  app.launch_new_instance()\n"
     ]
    },
    {
     "data": {
      "image/png": "[encoded data removed]",
      "text/plain": [
       "<Figure size 1440x936 with 4 Axes>"
      ]
     },
     "metadata": {
      "needs_background": "light"
     },
     "output_type": "display_data"
    }
   ],
   "source": [
    "fig, axs = plt.subplots(4,1, figsize=(20,13))\n",
    "scale_plot(axs[0], total_len=29903, bold_stick_step=1000, long_stick_step=500, sub_stick_step=100)\n",
    "axs[0].set_axis_off()\n",
    "barplot_shape_score(axs[1], virus_divide_vivo)\n",
    "axs[1].set_ylim(-1, 2)\n",
    "barplot_shape_score(axs[2], virus_divide_vitro)\n",
    "axs[2].set_ylim(-1, 2)\n",
    "plot_annotations(axs[3])\n",
    "axs[3].set_axis_off()\n",
    "\n",
    "axs[0].set_xlim(0, 29903)\n",
    "axs[1].set_xlim(0, 29903)\n",
    "axs[2].set_xlim(0, 29903)\n",
    "axs[3].set_xlim(0, 29903)\n",
    "plt.savefig(\"profiles.pdf\")\n",
    "fig.show()"
   ]
  },
  {
   "cell_type": "code",
   "execution_count": null,
   "metadata": {},
   "outputs": [],
   "source": []
  }
 ],
 "metadata": {
  "kernelspec": {
   "display_name": "Python 3",
   "language": "python",
   "name": "python3"
  },
  "language_info": {
   "codemirror_mode": {
    "name": "ipython",
    "version": 3
   },
   "file_extension": ".py",
   "mimetype": "text/x-python",
   "name": "python",
   "nbconvert_exporter": "python",
   "pygments_lexer": "ipython3",
   "version": "3.7.3"
  }
 },
 "nbformat": 4,
 "nbformat_minor": 4
}
